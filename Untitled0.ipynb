{
  "nbformat": 4,
  "nbformat_minor": 0,
  "metadata": {
    "colab": {
      "provenance": [],
      "authorship_tag": "ABX9TyMn8Fnw4IMrvimIf1TksUz7",
      "include_colab_link": true
    },
    "kernelspec": {
      "name": "python3",
      "display_name": "Python 3"
    },
    "language_info": {
      "name": "python"
    }
  },
  "cells": [
    {
      "cell_type": "markdown",
      "metadata": {
        "id": "view-in-github",
        "colab_type": "text"
      },
      "source": [
        "<a href=\"https://colab.research.google.com/github/yv0me/cluminating20230529/blob/main/Untitled0.ipynb\" target=\"_parent\"><img src=\"https://colab.research.google.com/assets/colab-badge.svg\" alt=\"Open In Colab\"/></a>"
      ]
    },
    {
      "cell_type": "markdown",
      "source": [],
      "metadata": {
        "id": "p8FRm_UgZn8X"
      }
    },
    {
      "cell_type": "markdown",
      "source": [
        "# 、\n",
        "\n"
      ],
      "metadata": {
        "id": "wUSa6xgQ8IHB"
      }
    },
    {
      "cell_type": "code",
      "source": [
        "for i in range(10,15,2):\n",
        "  print(i)"
      ],
      "metadata": {
        "colab": {
          "base_uri": "https://localhost:8080/"
        },
        "id": "711KgzLzsDcC",
        "outputId": "5d649ef1-49cd-45a5-8d1d-b199c01d6c72"
      },
      "execution_count": null,
      "outputs": [
        {
          "output_type": "stream",
          "name": "stdout",
          "text": [
            "10\n",
            "12\n",
            "14\n"
          ]
        }
      ]
    },
    {
      "cell_type": "code",
      "source": [
        "for i in range(10,3,-2):\n",
        "  print(i)"
      ],
      "metadata": {
        "colab": {
          "base_uri": "https://localhost:8080/"
        },
        "id": "C7mzHfq8tELL",
        "outputId": "cb53ad12-8dfa-4a7f-8d90-e6e9a09a3058"
      },
      "execution_count": null,
      "outputs": [
        {
          "output_type": "stream",
          "name": "stdout",
          "text": [
            "10\n",
            "8\n",
            "6\n",
            "4\n"
          ]
        }
      ]
    },
    {
      "cell_type": "code",
      "source": [
        "for i in range(15,10,-2):\n",
        "  print(i)"
      ],
      "metadata": {
        "id": "aRUVfYbVtee8",
        "outputId": "8875bab9-da1a-4a93-a0cb-553c3249f62d",
        "colab": {
          "base_uri": "https://localhost:8080/"
        }
      },
      "execution_count": null,
      "outputs": [
        {
          "output_type": "stream",
          "name": "stdout",
          "text": [
            "15\n",
            "13\n",
            "11\n"
          ]
        }
      ]
    },
    {
      "cell_type": "code",
      "source": [
        "for i in range(7,1,-1):\n",
        "  print(i)"
      ],
      "metadata": {
        "colab": {
          "base_uri": "https://localhost:8080/"
        },
        "id": "PnhSrnK4uDhb",
        "outputId": "104ea8fd-f2fa-47b5-8d0e-c7e62b9549e4"
      },
      "execution_count": null,
      "outputs": [
        {
          "output_type": "stream",
          "name": "stdout",
          "text": [
            "7\n",
            "6\n",
            "5\n",
            "4\n",
            "3\n",
            "2\n"
          ]
        }
      ]
    },
    {
      "cell_type": "code",
      "source": [
        "def main():\n",
        "  n=eval(input(\"enter the num:\"))\n",
        "  for i in range(n,1,-1):\n",
        "    print(i)\n",
        "main()"
      ],
      "metadata": {
        "colab": {
          "base_uri": "https://localhost:8080/"
        },
        "id": "rLv7h3qguIjS",
        "outputId": "00738336-95c0-4049-ef71-f8e24b398c00"
      },
      "execution_count": null,
      "outputs": [
        {
          "output_type": "stream",
          "name": "stdout",
          "text": [
            "enter the num:7\n",
            "7\n",
            "6\n",
            "5\n",
            "4\n",
            "3\n",
            "2\n"
          ]
        }
      ]
    },
    {
      "cell_type": "code",
      "source": [
        "def main():\n",
        "  n=int(input(\"enter the value\"))\n",
        "  fact=1\n",
        "  for factor in range(n,1,-1):\n",
        "    fact=fact*factor\n",
        "    print(fact)\n",
        "main()"
      ],
      "metadata": {
        "colab": {
          "base_uri": "https://localhost:8080/"
        },
        "id": "E8owF0lLyHFj",
        "outputId": "c710a7c9-5606-4f69-a809-d8042ef6c737"
      },
      "execution_count": null,
      "outputs": [
        {
          "output_type": "stream",
          "name": "stdout",
          "text": [
            "enter the value5\n",
            "5\n",
            "20\n",
            "60\n",
            "120\n"
          ]
        }
      ]
    },
    {
      "cell_type": "code",
      "source": [
        "def main():\n",
        "  #get the num of package\n",
        "  n=eval(input(\"enter the num of package\"))\n",
        "  #get the num of collision\n",
        "  m=eval(input(\"enter the times of collision\"))\n",
        "  score=50*n-10*m\n",
        "  if n>m:\n",
        "    score=score+500\n",
        "\n",
        "  print(\"the result is\" , score)\n",
        "\n",
        "main()\n"
      ],
      "metadata": {
        "colab": {
          "base_uri": "https://localhost:8080/"
        },
        "id": "FwB9Alex0-Rh",
        "outputId": "65492317-55ed-4497-9f6d-9cc614a8f1bd"
      },
      "execution_count": null,
      "outputs": [
        {
          "output_type": "stream",
          "name": "stdout",
          "text": [
            "enter the num of package0\n",
            "enter the times of collision10\n",
            "the result is -100\n"
          ]
        }
      ]
    },
    {
      "cell_type": "markdown",
      "source": [
        "# New Section"
      ],
      "metadata": {
        "id": "P85R0IPx85gq"
      }
    },
    {
      "cell_type": "markdown",
      "source": [
        "231013 L3"
      ],
      "metadata": {
        "id": "TiEFe0xJ8-6z"
      }
    },
    {
      "cell_type": "code",
      "source": [
        "def main():\n",
        "  r=eval(input(\"enter the r\"))\n",
        "  π=3.14\n",
        "  V = 4/3*π*r**3\n",
        "  A= 4*π*r**2\n",
        "  print(\"V =\",V,\"A =\",A)\n",
        "main()"
      ],
      "metadata": {
        "colab": {
          "base_uri": "https://localhost:8080/"
        },
        "id": "S3Uq07oK9B4m",
        "outputId": "32a3412b-c823-4325-fb47-ae966b1bd3e2"
      },
      "execution_count": null,
      "outputs": [
        {
          "output_type": "stream",
          "name": "stdout",
          "text": [
            "enter the r3\n",
            "V = 113.03999999999999 A = 113.04\n"
          ]
        }
      ]
    },
    {
      "cell_type": "code",
      "source": [
        "def main():\n",
        "  p=eval(input(\"enter the price\"))\n",
        "  d=eval(input(\"enter the d\"))\n",
        "  π=3.14\n",
        "  A=π*(d/2)**2\n",
        "  cost=p/A\n",
        "  print(\"the cost per square inch is\",cost)\n",
        "main()"
      ],
      "metadata": {
        "colab": {
          "base_uri": "https://localhost:8080/"
        },
        "id": "kyILZsNu-JKj",
        "outputId": "84a947a9-992c-49d0-fef5-8269488bf18a"
      },
      "execution_count": null,
      "outputs": [
        {
          "output_type": "stream",
          "name": "stdout",
          "text": [
            "enter the price35\n",
            "enter the d4\n",
            "the cost per square inch is 2.7866242038216558\n"
          ]
        }
      ]
    },
    {
      "cell_type": "code",
      "source": [
        "def main():\n",
        "  H,C,O=eval(input(enter the num of H,C,O\"\"))"
      ],
      "metadata": {
        "id": "33ercJej_7pm"
      },
      "execution_count": null,
      "outputs": []
    },
    {
      "cell_type": "markdown",
      "source": [
        "# New Section"
      ],
      "metadata": {
        "id": "TfHULfCRdnNF"
      }
    },
    {
      "cell_type": "code",
      "source": [
        "for i in range(7):\n",
        "  print(i,2**i)"
      ],
      "metadata": {
        "colab": {
          "base_uri": "https://localhost:8080/"
        },
        "id": "Byu7fLWWCR8y",
        "outputId": "dcba990d-32c8-4d63-d1c3-768d0a77cdf5"
      },
      "execution_count": null,
      "outputs": [
        {
          "output_type": "stream",
          "name": "stdout",
          "text": [
            "0 1\n",
            "1 2\n",
            "2 4\n",
            "3 8\n",
            "4 16\n",
            "5 32\n",
            "6 64\n"
          ]
        }
      ]
    },
    {
      "cell_type": "code",
      "source": [
        "def main():\n",
        "  a,b = eval(input(\"enter num a,b\"))\n",
        "  print(a//b)\n",
        "  print(a/b)\n",
        "  print(a%b)\n",
        "  print(a**b)\n",
        "  print(a*b)\n",
        "  print(a+b)\n",
        "  print(a-b)\n",
        "\n",
        "main()"
      ],
      "metadata": {
        "colab": {
          "base_uri": "https://localhost:8080/"
        },
        "id": "ZpD8Z_NEdn3Q",
        "outputId": "f8ec739c-9d5d-4928-8e6c-4f6d365750ca"
      },
      "execution_count": null,
      "outputs": [
        {
          "output_type": "stream",
          "name": "stdout",
          "text": [
            "enter num a,b3,5\n",
            "0\n",
            "0.6\n",
            "3\n",
            "243\n",
            "15\n",
            "8\n",
            "-2\n"
          ]
        }
      ]
    },
    {
      "cell_type": "code",
      "source": [
        "number = int(input(\"enter a number:\"))\n",
        "if (number % 2==0):\n",
        "  print(number,\"is even num\")\n",
        "else:\n",
        "  print(number,\"is odd num\")"
      ],
      "metadata": {
        "colab": {
          "base_uri": "https://localhost:8080/"
        },
        "id": "MNEWzOEEgORV",
        "outputId": "7c5b77fd-0045-422d-edf5-0bbb4df3caa7"
      },
      "execution_count": null,
      "outputs": [
        {
          "output_type": "stream",
          "name": "stdout",
          "text": [
            "enter a number:3\n",
            "3 is odd num\n"
          ]
        }
      ]
    },
    {
      "cell_type": "code",
      "source": [
        "def main():\n",
        "  celsius = eval(input(\"What's the celsius temperature?\"))\n",
        "  fahrenheit = 9/5 * celsius +32\n",
        "  print(\"The temperature is\", fahrenheit, \"degrees Fahrenheit.\")\n",
        "\n",
        "main()"
      ],
      "metadata": {
        "colab": {
          "base_uri": "https://localhost:8080/"
        },
        "id": "CbGEvZv1gmg1",
        "outputId": "50694bd0-ae14-4cb9-d25c-e6a8c4b78cf8"
      },
      "execution_count": null,
      "outputs": [
        {
          "output_type": "stream",
          "name": "stdout",
          "text": [
            "What's the celsius temperature?37\n",
            "The temperature is 98.60000000000001 degrees Fahrenheit.\n"
          ]
        }
      ]
    },
    {
      "cell_type": "markdown",
      "source": [
        "# New Section"
      ],
      "metadata": {
        "id": "UZ70GHgDZtWq"
      }
    },
    {
      "cell_type": "code",
      "source": [
        "x = 4.0/10.0+3.5*2\n",
        "print(x)"
      ],
      "metadata": {
        "colab": {
          "base_uri": "https://localhost:8080/"
        },
        "id": "-30yYG6es4D9",
        "outputId": "b68b9454-e128-4ca9-ba94-d346b5a71a80"
      },
      "execution_count": null,
      "outputs": [
        {
          "output_type": "stream",
          "name": "stdout",
          "text": [
            "7.4\n"
          ]
        }
      ]
    },
    {
      "cell_type": "code",
      "source": [
        "x = 10%4+6/2\n",
        "print(x)"
      ],
      "metadata": {
        "colab": {
          "base_uri": "https://localhost:8080/"
        },
        "id": "RIrxO_CytCKz",
        "outputId": "6e0982b4-94bb-40e6-9e3c-18748ac79bc1"
      },
      "execution_count": null,
      "outputs": [
        {
          "output_type": "stream",
          "name": "stdout",
          "text": [
            "5.0\n"
          ]
        }
      ]
    },
    {
      "cell_type": "code",
      "source": [
        "x = abs(4-20//3)**3\n",
        "print(x)"
      ],
      "metadata": {
        "colab": {
          "base_uri": "https://localhost:8080/"
        },
        "id": "lhrHqY4VtLaN",
        "outputId": "7dab6dc9-56f0-4b28-f836-ea81b85f2633"
      },
      "execution_count": null,
      "outputs": [
        {
          "output_type": "stream",
          "name": "stdout",
          "text": [
            "8\n"
          ]
        }
      ]
    },
    {
      "cell_type": "code",
      "source": [
        "x = sqrt(4.5 - 5.0) + 7*3\n",
        "print(x)"
      ],
      "metadata": {
        "colab": {
          "base_uri": "https://localhost:8080/",
          "height": 197
        },
        "id": "05N804BgtV6a",
        "outputId": "e07112ea-4ef9-4679-8416-19436380fd06"
      },
      "execution_count": null,
      "outputs": [
        {
          "output_type": "error",
          "ename": "NameError",
          "evalue": "ignored",
          "traceback": [
            "\u001b[0;31m---------------------------------------------------------------------------\u001b[0m",
            "\u001b[0;31mNameError\u001b[0m                                 Traceback (most recent call last)",
            "\u001b[0;32m<ipython-input-7-cae86f8335c7>\u001b[0m in \u001b[0;36m<cell line: 1>\u001b[0;34m()\u001b[0m\n\u001b[0;32m----> 1\u001b[0;31m \u001b[0mx\u001b[0m \u001b[0;34m=\u001b[0m \u001b[0msqrt\u001b[0m\u001b[0;34m(\u001b[0m\u001b[0;36m4.5\u001b[0m \u001b[0;34m-\u001b[0m \u001b[0;36m5.0\u001b[0m\u001b[0;34m)\u001b[0m \u001b[0;34m+\u001b[0m \u001b[0;36m7\u001b[0m\u001b[0;34m*\u001b[0m\u001b[0;36m3\u001b[0m\u001b[0;34m\u001b[0m\u001b[0;34m\u001b[0m\u001b[0m\n\u001b[0m\u001b[1;32m      2\u001b[0m \u001b[0mprint\u001b[0m\u001b[0;34m(\u001b[0m\u001b[0mx\u001b[0m\u001b[0;34m)\u001b[0m\u001b[0;34m\u001b[0m\u001b[0;34m\u001b[0m\u001b[0m\n",
            "\u001b[0;31mNameError\u001b[0m: name 'sqrt' is not defined"
          ]
        }
      ]
    },
    {
      "cell_type": "code",
      "source": [
        "x = 3*10//3+10%3\n",
        "print(x)"
      ],
      "metadata": {
        "colab": {
          "base_uri": "https://localhost:8080/"
        },
        "id": "NZy3m0tttwuw",
        "outputId": "deaa5806-e166-4630-d2b6-9b9da602284e"
      },
      "execution_count": null,
      "outputs": [
        {
          "output_type": "stream",
          "name": "stdout",
          "text": [
            "11\n"
          ]
        }
      ]
    },
    {
      "cell_type": "code",
      "source": [
        "x = 3**3\n",
        "print(x)"
      ],
      "metadata": {
        "colab": {
          "base_uri": "https://localhost:8080/"
        },
        "id": "j2JHFOYXv4_K",
        "outputId": "2ced7d9a-9350-4ba4-f375-b33ae544d96e"
      },
      "execution_count": null,
      "outputs": [
        {
          "output_type": "stream",
          "name": "stdout",
          "text": [
            "27\n"
          ]
        }
      ]
    },
    {
      "cell_type": "code",
      "source": [
        "range x=(15,5,-2)\n",
        "print(x)"
      ],
      "metadata": {
        "colab": {
          "base_uri": "https://localhost:8080/",
          "height": 143
        },
        "id": "IIoZN4JN1ySh",
        "outputId": "ab3732c2-2e85-4db7-fa38-66ebdf35d350"
      },
      "execution_count": null,
      "outputs": [
        {
          "output_type": "error",
          "ename": "SyntaxError",
          "evalue": "ignored",
          "traceback": [
            "\u001b[0;36m  File \u001b[0;32m\"<ipython-input-12-50c528db84cd>\"\u001b[0;36m, line \u001b[0;32m1\u001b[0m\n\u001b[0;31m    range x=(15,5,-2)\u001b[0m\n\u001b[0m          ^\u001b[0m\n\u001b[0;31mSyntaxError\u001b[0m\u001b[0;31m:\u001b[0m invalid syntax\n"
          ]
        }
      ]
    },
    {
      "cell_type": "code",
      "source": [
        "for i in range(1,11):\n",
        "  print(i*i)"
      ],
      "metadata": {
        "colab": {
          "base_uri": "https://localhost:8080/"
        },
        "id": "_IPiK5ma8VTR",
        "outputId": "cea12429-0da3-4ece-b273-01a438bfaec1"
      },
      "execution_count": null,
      "outputs": [
        {
          "output_type": "stream",
          "name": "stdout",
          "text": [
            "1\n",
            "4\n",
            "9\n",
            "16\n",
            "25\n",
            "36\n",
            "49\n",
            "64\n",
            "81\n",
            "100\n"
          ]
        }
      ]
    },
    {
      "cell_type": "code",
      "source": [
        "for i in[1,3,5,7,9]:\n",
        "  print(i,\":\",i**3)\n",
        "  print(i)"
      ],
      "metadata": {
        "colab": {
          "base_uri": "https://localhost:8080/"
        },
        "id": "fpfkxi5k8wRU",
        "outputId": "534ccfa0-2c1e-412c-f4c2-bb9549e4ca69"
      },
      "execution_count": null,
      "outputs": [
        {
          "output_type": "stream",
          "name": "stdout",
          "text": [
            "1 : 1\n",
            "1\n",
            "3 : 27\n",
            "3\n",
            "5 : 125\n",
            "5\n",
            "7 : 343\n",
            "7\n",
            "9 : 729\n",
            "9\n"
          ]
        }
      ]
    },
    {
      "cell_type": "code",
      "source": [
        "x=2\n",
        "y=10\n",
        "for j in range(0,y,x):\n",
        "  print(j,end=\"\")\n",
        "  print(x+y)\n",
        "  print(\"done\")"
      ],
      "metadata": {
        "colab": {
          "base_uri": "https://localhost:8080/"
        },
        "id": "gtR-hZNs9CBQ",
        "outputId": "ec7fd9b9-7c49-4591-a4f5-b380230bc613"
      },
      "execution_count": null,
      "outputs": [
        {
          "output_type": "stream",
          "name": "stdout",
          "text": [
            "012\n",
            "done\n",
            "212\n",
            "done\n",
            "412\n",
            "done\n",
            "612\n",
            "done\n",
            "812\n",
            "done\n"
          ]
        }
      ]
    },
    {
      "cell_type": "code",
      "source": [
        "ans = 0\n",
        "for i in range(1,11):\n",
        "  ans = ans+i*i\n",
        "  print(i)\n",
        "  print(ans)"
      ],
      "metadata": {
        "colab": {
          "base_uri": "https://localhost:8080/"
        },
        "id": "EJEXwR_P9cv7",
        "outputId": "dbc827eb-8a6a-402d-9504-4b05cfb6bd1d"
      },
      "execution_count": null,
      "outputs": [
        {
          "output_type": "stream",
          "name": "stdout",
          "text": [
            "1\n",
            "1\n",
            "2\n",
            "5\n",
            "3\n",
            "14\n",
            "4\n",
            "30\n",
            "5\n",
            "55\n",
            "6\n",
            "91\n",
            "7\n",
            "140\n",
            "8\n",
            "204\n",
            "9\n",
            "285\n",
            "10\n",
            "385\n"
          ]
        }
      ]
    },
    {
      "cell_type": "code",
      "source": [
        "def main():\n",
        "  r = eval(input(\"enter the num r\"))\n",
        "  π = 3.14\n",
        "  V = 4/3*π*r**3\n",
        "  A = 4*π*r**2\n",
        "  print(V,A)\n",
        "main()"
      ],
      "metadata": {
        "colab": {
          "base_uri": "https://localhost:8080/"
        },
        "id": "w6lk6uYECudi",
        "outputId": "218f4400-f763-41bc-9146-cb8c5fae7ad5"
      },
      "execution_count": null,
      "outputs": [
        {
          "output_type": "stream",
          "name": "stdout",
          "text": [
            "enter the num r3\n",
            "113.03999999999999 113.04\n"
          ]
        }
      ]
    },
    {
      "cell_type": "markdown",
      "source": [
        "# New Section"
      ],
      "metadata": {
        "id": "uW6ZIhpQMjG6"
      }
    },
    {
      "cell_type": "code",
      "source": [
        "for i in range(5):\n",
        "  print(i*i)\n"
      ],
      "metadata": {
        "colab": {
          "base_uri": "https://localhost:8080/"
        },
        "id": "PHRmTFo0yRh8",
        "outputId": "15ee6d1f-affa-4039-eb78-dcf7102da81b"
      },
      "execution_count": null,
      "outputs": [
        {
          "output_type": "stream",
          "name": "stdout",
          "text": [
            "0\n",
            "1\n",
            "4\n",
            "9\n",
            "16\n"
          ]
        }
      ]
    },
    {
      "cell_type": "code",
      "source": [
        "print(\"red\",\"green\",\"blue\",sep=',')"
      ],
      "metadata": {
        "colab": {
          "base_uri": "https://localhost:8080/"
        },
        "id": "8-tMadqW7hLL",
        "outputId": "a45b7d8b-bd3b-427a-b047-935214b332c6"
      },
      "execution_count": null,
      "outputs": [
        {
          "output_type": "stream",
          "name": "stdout",
          "text": [
            "red,green,blue\n"
          ]
        }
      ]
    },
    {
      "cell_type": "markdown",
      "source": [],
      "metadata": {
        "id": "Rl6BENAJKmF6"
      }
    },
    {
      "cell_type": "markdown",
      "source": [
        "# New Section"
      ],
      "metadata": {
        "id": "zoeWG2GvIcL3"
      }
    },
    {
      "cell_type": "markdown",
      "source": [],
      "metadata": {
        "id": "HbluCx_LJD6M"
      }
    },
    {
      "cell_type": "code",
      "source": [
        "def main():\n",
        "  n = eval(input(\"enter the number n\"))\n",
        "  print(\"result\",((1*1)+(n*n))*n/2)\n",
        "main()"
      ],
      "metadata": {
        "colab": {
          "base_uri": "https://localhost:8080/"
        },
        "id": "orluMktgJhuT",
        "outputId": "9bb08323-8057-4a82-b737-d9e0d8670df7"
      },
      "execution_count": null,
      "outputs": [
        {
          "output_type": "stream",
          "name": "stdout",
          "text": [
            "enter the number n45\n",
            "result 45585.0\n"
          ]
        }
      ]
    },
    {
      "cell_type": "code",
      "source": [
        "n = eval(input(\"enter the num: \"))\n",
        "for i in range(1,n+1):\n",
        "  for j in range(1, i+1):\n",
        "    print(j,end=\"\")\n",
        "  print()"
      ],
      "metadata": {
        "id": "hWRFrkkoN-ya",
        "colab": {
          "base_uri": "https://localhost:8080/"
        },
        "outputId": "f6a1e675-39fd-4566-c670-d782d782b9e7"
      },
      "execution_count": null,
      "outputs": [
        {
          "output_type": "stream",
          "name": "stdout",
          "text": [
            "enter the num: 7\n",
            "1\n",
            "12\n",
            "123\n",
            "1234\n",
            "12345\n",
            "123456\n",
            "1234567\n"
          ]
        }
      ]
    },
    {
      "cell_type": "code",
      "source": [
        "n = eval(input(\"enter the year: \"))\n",
        "if (n%4==0 and n%100!=0 or n%400==0):\n",
        "  print(n,\"is leap year\")\n",
        "else:\n",
        "  print(n,\"is normal year\")\n"
      ],
      "metadata": {
        "colab": {
          "base_uri": "https://localhost:8080/"
        },
        "id": "Mq0e_nwb1dYm",
        "outputId": "8c13155b-1dd2-4a38-e08b-482a6f36e5a5"
      },
      "execution_count": null,
      "outputs": [
        {
          "output_type": "stream",
          "name": "stdout",
          "text": [
            "enter the year: 1700\n",
            "1700 is normal year\n"
          ]
        }
      ]
    },
    {
      "cell_type": "code",
      "source": [
        "import math\n",
        "def main():\n",
        "  r,a,h = eval(input(\"enter the num r,a,h\"))\n",
        "  print(\"area of a circle\", math.pi*r*r)\n",
        "  print(\"area of a cube\", 6*a*a)\n",
        "  print(\"area of a cylinder\", 2*math.pi*r*h+2*math.pi*r*r)\n",
        "  print(\"area of a sphere\", 4*math.pi*r*r)\n",
        "main()\n"
      ],
      "metadata": {
        "colab": {
          "base_uri": "https://localhost:8080/"
        },
        "id": "znVVoA8R4kKe",
        "outputId": "0e0ff017-2df9-43c5-c727-88037beeaf6e"
      },
      "execution_count": null,
      "outputs": [
        {
          "output_type": "stream",
          "name": "stdout",
          "text": [
            "enter the num r,a,h3,4,5\n",
            "area of a circle 28.274333882308138\n",
            "area of a cube 96\n",
            "area of a cylinder 150.79644737231007\n",
            "area of a sphere 113.09733552923255\n"
          ]
        }
      ]
    },
    {
      "cell_type": "markdown",
      "source": [
        "# New Section"
      ],
      "metadata": {
        "id": "JwcPN8sJMtnk"
      }
    },
    {
      "cell_type": "code",
      "source": [
        "for i in range(10):\n",
        "  if i%2==0:\n",
        "    print(\"even\")\n",
        "  else:\n",
        "    print(\"odd\")"
      ],
      "metadata": {
        "colab": {
          "base_uri": "https://localhost:8080/"
        },
        "id": "sgCCniBnMuE-",
        "outputId": "5b52b974-f96f-433d-ff1e-9e63df57585b"
      },
      "execution_count": null,
      "outputs": [
        {
          "output_type": "stream",
          "name": "stdout",
          "text": [
            "even\n",
            "odd\n",
            "even\n",
            "odd\n",
            "even\n",
            "odd\n",
            "even\n",
            "odd\n",
            "even\n",
            "odd\n"
          ]
        }
      ]
    },
    {
      "cell_type": "code",
      "source": [
        "n=int(input(\"enter your age\"))\n",
        "if n<18:\n",
        "  print(\"age is less than 18\");\n",
        "elif n>18 and n<50:\n",
        "  print(\"age is between 18 and 50\");\n",
        "else:\n",
        "  print(n)"
      ],
      "metadata": {
        "colab": {
          "base_uri": "https://localhost:8080/"
        },
        "id": "yUj1q4aqNbcm",
        "outputId": "6e8cf58b-9b1e-4be7-dfdf-3876f482b910"
      },
      "execution_count": null,
      "outputs": [
        {
          "output_type": "stream",
          "name": "stdout",
          "text": [
            "enter your age25\n",
            "age is between 18 and 50\n"
          ]
        }
      ]
    },
    {
      "cell_type": "code",
      "source": [
        "int(4.5)"
      ],
      "metadata": {
        "colab": {
          "base_uri": "https://localhost:8080/"
        },
        "id": "22fDotNKVCUO",
        "outputId": "22530ac0-4ce0-464b-ae9b-18dab47b82d9"
      },
      "execution_count": null,
      "outputs": [
        {
          "output_type": "execute_result",
          "data": {
            "text/plain": [
              "4"
            ]
          },
          "metadata": {},
          "execution_count": 4
        }
      ]
    },
    {
      "cell_type": "code",
      "source": [
        "float(4)"
      ],
      "metadata": {
        "colab": {
          "base_uri": "https://localhost:8080/"
        },
        "id": "wOPmRPVvVKgZ",
        "outputId": "9d83f4ca-f0dc-4ef1-d762-aebad595a2cb"
      },
      "execution_count": null,
      "outputs": [
        {
          "output_type": "execute_result",
          "data": {
            "text/plain": [
              "4.0"
            ]
          },
          "metadata": {},
          "execution_count": 5
        }
      ]
    },
    {
      "cell_type": "code",
      "source": [
        "float(int(3.3))"
      ],
      "metadata": {
        "colab": {
          "base_uri": "https://localhost:8080/"
        },
        "id": "q0i13UngVVm0",
        "outputId": "72d92a2f-0dee-4bfb-f3e8-ebf84caef57b"
      },
      "execution_count": null,
      "outputs": [
        {
          "output_type": "execute_result",
          "data": {
            "text/plain": [
              "3.0"
            ]
          },
          "metadata": {},
          "execution_count": 6
        }
      ]
    },
    {
      "cell_type": "code",
      "source": [
        "int(float(3.6))"
      ],
      "metadata": {
        "colab": {
          "base_uri": "https://localhost:8080/"
        },
        "id": "LVn9vFa9VZak",
        "outputId": "96d75dcd-ead9-4623-e8f4-3cc1813ad6ed"
      },
      "execution_count": null,
      "outputs": [
        {
          "output_type": "execute_result",
          "data": {
            "text/plain": [
              "3"
            ]
          },
          "metadata": {},
          "execution_count": 7
        }
      ]
    },
    {
      "cell_type": "markdown",
      "source": [
        "rounding"
      ],
      "metadata": {
        "id": "_76GV_PFVirx"
      }
    },
    {
      "cell_type": "code",
      "source": [
        "round(3,5)"
      ],
      "metadata": {
        "colab": {
          "base_uri": "https://localhost:8080/"
        },
        "id": "9cpxHKLyVlgy",
        "outputId": "29f9a551-4ccd-4beb-a9ce-6f5c35f993ac"
      },
      "execution_count": null,
      "outputs": [
        {
          "output_type": "execute_result",
          "data": {
            "text/plain": [
              "3"
            ]
          },
          "metadata": {},
          "execution_count": 8
        }
      ]
    },
    {
      "cell_type": "code",
      "source": [
        "round(3,8)"
      ],
      "metadata": {
        "colab": {
          "base_uri": "https://localhost:8080/"
        },
        "id": "fOqUJLoYVoZL",
        "outputId": "f60529cc-37da-4d88-9366-5bc363f5a938"
      },
      "execution_count": null,
      "outputs": [
        {
          "output_type": "execute_result",
          "data": {
            "text/plain": [
              "3"
            ]
          },
          "metadata": {},
          "execution_count": 9
        }
      ]
    },
    {
      "cell_type": "code",
      "source": [
        "round(4.23456,4)"
      ],
      "metadata": {
        "colab": {
          "base_uri": "https://localhost:8080/"
        },
        "id": "D1ri7ZoEVs-p",
        "outputId": "4fb347e3-b75e-4d48-d07f-3031c96c4e91"
      },
      "execution_count": null,
      "outputs": [
        {
          "output_type": "execute_result",
          "data": {
            "text/plain": [
              "4.2346"
            ]
          },
          "metadata": {},
          "execution_count": 11
        }
      ]
    },
    {
      "cell_type": "code",
      "source": [
        "round(4.236674,2)"
      ],
      "metadata": {
        "colab": {
          "base_uri": "https://localhost:8080/"
        },
        "id": "2HI8GkUVV1az",
        "outputId": "13b88836-5b8d-4d28-a8b5-57047b12243c"
      },
      "execution_count": null,
      "outputs": [
        {
          "output_type": "execute_result",
          "data": {
            "text/plain": [
              "4.24"
            ]
          },
          "metadata": {},
          "execution_count": 12
        }
      ]
    },
    {
      "cell_type": "markdown",
      "source": [
        "math functions"
      ],
      "metadata": {
        "id": "HQKLgVAgWTyA"
      }
    },
    {
      "cell_type": "code",
      "source": [
        "import math\n",
        "print(math.sqrt(4))\n",
        "print(math.pi)\n",
        "print(math.tan(4))"
      ],
      "metadata": {
        "colab": {
          "base_uri": "https://localhost:8080/"
        },
        "id": "cKzBrtFmWVl6",
        "outputId": "1dd517ad-0c18-4eb6-d258-199f34ca5d6a"
      },
      "execution_count": null,
      "outputs": [
        {
          "output_type": "stream",
          "name": "stdout",
          "text": [
            "2.0\n",
            "3.141592653589793\n",
            "1.1578212823495775\n"
          ]
        }
      ]
    },
    {
      "cell_type": "markdown",
      "source": [
        "use int or float(the types) for taking input from the user"
      ],
      "metadata": {
        "id": "9mAQYNB3WwVW"
      }
    },
    {
      "cell_type": "code",
      "source": [
        "num,num1=eval(input(\"enter the number\"))\n",
        "print(num+num1)"
      ],
      "metadata": {
        "colab": {
          "base_uri": "https://localhost:8080/"
        },
        "id": "45ASh28IW1bI",
        "outputId": "285a57bb-6965-487c-b4fd-6d92439bc8d5"
      },
      "execution_count": null,
      "outputs": [
        {
          "output_type": "stream",
          "name": "stdout",
          "text": [
            "enter the number3,4\n",
            "7\n"
          ]
        }
      ]
    },
    {
      "cell_type": "code",
      "source": [],
      "metadata": {
        "id": "6orarRSYn_2k"
      },
      "execution_count": null,
      "outputs": []
    }
  ]
}