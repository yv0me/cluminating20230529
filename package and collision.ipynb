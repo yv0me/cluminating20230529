{
  "nbformat": 4,
  "nbformat_minor": 0,
  "metadata": {
    "colab": {
      "provenance": [],
      "authorship_tag": "ABX9TyMBFBoLqTFCgfSSFugvN/FZ",
      "include_colab_link": true
    },
    "kernelspec": {
      "name": "python3",
      "display_name": "Python 3"
    },
    "language_info": {
      "name": "python"
    }
  },
  "cells": [
    {
      "cell_type": "markdown",
      "metadata": {
        "id": "view-in-github",
        "colab_type": "text"
      },
      "source": [
        "<a href=\"https://colab.research.google.com/github/yv0me/cluminating20230529/blob/main/package%20and%20collision.ipynb\" target=\"_parent\"><img src=\"https://colab.research.google.com/assets/colab-badge.svg\" alt=\"Open In Colab\"/></a>"
      ]
    },
    {
      "cell_type": "code",
      "execution_count": 1,
      "metadata": {
        "colab": {
          "base_uri": "https://localhost:8080/"
        },
        "id": "FP8E1E8oi8Is",
        "outputId": "408a6ee5-cdcc-465b-f1eb-605683fe6b30"
      },
      "outputs": [
        {
          "output_type": "stream",
          "name": "stdout",
          "text": [
            "enter the num of package0\n",
            "enter the times of collision10\n",
            "the result is -100\n"
          ]
        }
      ],
      "source": [
        "def main():\n",
        "  #get the num of package\n",
        "  n=eval(input(\"enter the num of package\"))\n",
        "  #get the num of collision\n",
        "  m=eval(input(\"enter the times of collision\"))\n",
        "  score=50*n-10*m\n",
        "  if n>m:\n",
        "    score=score+500\n",
        "\n",
        "  print(\"the result is\" , score)\n",
        "\n",
        "main()"
      ]
    }
  ]
}